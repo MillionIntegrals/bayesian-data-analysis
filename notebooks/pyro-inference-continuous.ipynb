{
 "cells": [
  {
   "cell_type": "code",
   "execution_count": 1,
   "metadata": {},
   "outputs": [],
   "source": [
    "import pyro\n",
    "import pyro.infer\n",
    "import pyro.optim\n",
    "import torch\n",
    "import numpy as np\n",
    "import scipy.stats as stats\n",
    "import torch.distributions.constraints as constraints\n",
    "import matplotlib.pyplot as plt"
   ]
  },
  {
   "cell_type": "code",
   "execution_count": 2,
   "metadata": {},
   "outputs": [],
   "source": [
    "# In the meantime I'll define thin wrappers around the probability distributions\n",
    "class Bernoulli:\n",
    "    def __init__(self, p):\n",
    "        self.p = p\n",
    "    \n",
    "    def sample(self, size=1):\n",
    "        return stats.bernoulli.rvs(p=self.p, size=size)\n",
    "        \n",
    "class Uniform:\n",
    "    def __init__(self, start, end):\n",
    "        self.start = start\n",
    "        self.end = end\n",
    "    \n",
    "    def sample(self, size=1):\n",
    "        return stats.uniform.rvs(loc=self.start, scale=self.end-self.start, size=size)\n",
    "    \n",
    "    def pdf(self, x):\n",
    "        return stats.uniform.pdf(x, loc=self.start, scale=self.end-self.start)\n",
    "    \n",
    "    def mean(self):\n",
    "        return stats.uniform.mean(loc=self.start, scale=self.end-self.start)\n",
    "        \n",
    "class Beta:\n",
    "    def __init__(self, alpha, beta):\n",
    "        self.alpha = alpha\n",
    "        self.beta = beta\n",
    "        \n",
    "    def pdf(self, X):\n",
    "        return stats.beta.pdf(X, a=self.alpha, b=self.beta)\n",
    "    \n",
    "    def mean(self):\n",
    "        return stats.beta.mean(a=self.alpha, b=self.beta)\n",
    "    \n",
    "    \n",
    "class Normal:\n",
    "    def __init__(self, mu, sigma):\n",
    "        self.mu = mu\n",
    "        self.sigma = sigma\n",
    "        \n",
    "    def pdf(self, X):\n",
    "        return stats.norm.pdf(X, loc=self.mu, scale=self.sigma)\n",
    "    \n",
    "    def sample(self, size=1):\n",
    "        return stats.norm.rvs(loc=self.mu, scale=self.sigma, size=size)\n",
    "    \n",
    "    def mean(self):\n",
    "        return self.mu"
   ]
  },
  {
   "cell_type": "code",
   "execution_count": 3,
   "metadata": {},
   "outputs": [],
   "source": [
    "plt.rcParams['figure.figsize'] = [14, 8]"
   ]
  },
  {
   "cell_type": "markdown",
   "metadata": {},
   "source": [
    "# Second example - continuous case"
   ]
  },
  {
   "cell_type": "markdown",
   "metadata": {},
   "source": [
    "- Prior $\\mathbb{P}(\\theta) \\sim N(0, 1)$\n",
    "- Likelihood $\\mathbb{P}(X | \\theta) \\sim N(\\theta, 1)$"
   ]
  },
  {
   "cell_type": "code",
   "execution_count": 4,
   "metadata": {},
   "outputs": [],
   "source": [
    "N = 100"
   ]
  },
  {
   "cell_type": "code",
   "execution_count": 5,
   "metadata": {},
   "outputs": [],
   "source": [
    "Prior = Normal(0, 1)"
   ]
  },
  {
   "cell_type": "code",
   "execution_count": 6,
   "metadata": {},
   "outputs": [],
   "source": [
    "#hidden_theta = Prior.sample()[0]\n",
    "#print(\"hidden_theta=\", hidden_theta)\n",
    "#Likelihood = Normal(hidden_theta, 1)\n",
    "#X = Likelihood.sample(N)"
   ]
  },
  {
   "cell_type": "code",
   "execution_count": 7,
   "metadata": {},
   "outputs": [],
   "source": [
    "hidden_theta = -0.30876849393399736\n",
    "X = np.array([ 0.83882339, -0.18327733, -2.1367785 , -0.23884984,  0.64975018,\n",
    "        0.3822017 , -1.28156452, -1.76602789, -0.52034258, -1.02277046,\n",
    "       -0.1081116 , -0.04086724, -1.00239476, -2.31659967, -2.01284933,\n",
    "       -0.04255648, -0.48477407, -0.85343536,  0.57087556, -1.67664997,\n",
    "       -0.16917258,  0.33454645, -1.7441229 ,  1.04228389,  0.33730209,\n",
    "        0.85081516,  0.16614794, -0.87870244,  0.22860209, -1.12077229,\n",
    "        0.00912435, -1.34767148, -1.06479637,  0.51134094,  1.65901749,\n",
    "       -1.00470063,  0.88676986,  0.0328493 , -0.53138992, -0.26180192,\n",
    "       -0.18376393, -1.06245679,  1.33091922, -1.14943535, -0.03175903,\n",
    "       -0.29296988,  0.76961376, -0.80308002, -0.59702679, -0.73219416,\n",
    "        0.36688673, -1.35749804, -0.69708232,  1.08306657, -2.09771641,\n",
    "       -1.50261039,  0.07427721,  0.25997902, -2.71479907,  1.45067433,\n",
    "       -0.24867818, -0.25115161,  1.00637968,  0.48491776, -1.87099424,\n",
    "       -0.29619929,  0.43546577,  0.24719993, -0.14766969, -1.22047931,\n",
    "       -0.6958676 ,  0.50736201, -0.02641034, -0.00787796, -2.67367672,\n",
    "        2.22168505, -0.45168883,  0.20791519, -0.94687149, -0.41716543,\n",
    "       -1.66260982,  1.17850728, -0.04458167,  0.21673739, -0.77691316,\n",
    "       -0.1035381 , -1.60944244,  1.28643517,  0.7185452 , -2.15315254,\n",
    "        0.39248977, -1.88790874, -0.70113703, -0.07157591, -0.67460936,\n",
    "       -1.10845035,  0.46250522,  0.45822605,  0.02116005, -0.58546019])"
   ]
  },
  {
   "cell_type": "code",
   "execution_count": 8,
   "metadata": {},
   "outputs": [
    {
     "data": {
      "image/png": "[encoded data removed]",
      "text/plain": [
       "<Figure size 1008x576 with 1 Axes>"
      ]
     },
     "metadata": {
      "needs_background": "light"
     },
     "output_type": "display_data"
    }
   ],
   "source": [
    "fig, axs = plt.subplots(1, 1)\n",
    "axs.set_title(\"X histogram\")\n",
    "color = next(axs._get_lines.prop_cycler)[\"color\"]\n",
    "axs.hist(X, bins=20, density=True, color=color, alpha=0.3)\n",
    "axs.hist(X, bins=20, density=True, color=color, edgecolor=color, fc=\"None\", lw=1)\n",
    "None"
   ]
  },
  {
   "cell_type": "code",
   "execution_count": 9,
   "metadata": {},
   "outputs": [],
   "source": [
    "def model(size):\n",
    "    theta = pyro.sample(\"continuous_prior\", pyro.distributions.Normal(0, 1))\n",
    "    \n",
    "    data = pyro.sample(\n",
    "        \"continuous_likelihood\", \n",
    "        pyro.distributions.Normal(theta, 1).expand_by([size]), \n",
    "        obs=torch.from_numpy(X).to(torch.float64)\n",
    "    )\n",
    "    \n",
    "    print(\"theta=\", theta)\n",
    "    print(\"data=\", data)\n",
    "\n",
    "    return data"
   ]
  },
  {
   "cell_type": "code",
   "execution_count": 23,
   "metadata": {},
   "outputs": [
    {
     "data": {
      "text/plain": [
       "tensor(1., dtype=torch.float64, grad_fn=<AddBackward0>)"
      ]
     },
     "execution_count": 23,
     "metadata": {},
     "output_type": "execute_result"
    }
   ],
   "source": [
    "pyro.param(\"c_a\", torch.tensor(2.0).to(torch.float64))\n",
    "pyro.param(\"c_b\", torch.tensor(4.0).to(torch.float64), constraint=constraints.positive)"
   ]
  },
  {
   "cell_type": "code",
   "execution_count": 11,
   "metadata": {},
   "outputs": [],
   "source": [
    "def guide(size):\n",
    "    mu = pyro.param(\"c_a\", torch.tensor(1.0))\n",
    "    std = pyro.param(\"c_b\", torch.tensor(1.0), constraint=constraints.positive)\n",
    "    print(\"mu=\", mu)\n",
    "    print(\"Std=\", std)\n",
    "    guide_sample = pyro.sample(\"continuous_prior\", pyro.distributions.Normal(mu, std))\n",
    "    \n",
    "    print(\"guide_sample=\", guide_sample)\n",
    "    \n",
    "    return guide_sample"
   ]
  },
  {
   "cell_type": "code",
   "execution_count": 12,
   "metadata": {},
   "outputs": [],
   "source": [
    "continuous_svi = pyro.infer.SVI(\n",
    "    model=model,\n",
    "    guide=guide,\n",
    "    optim=pyro.optim.SGD({\"lr\": 0.001, \"momentum\": 0.1}),\n",
    "    loss=pyro.infer.Trace_ELBO()\n",
    ")"
   ]
  },
  {
   "cell_type": "code",
   "execution_count": 22,
   "metadata": {},
   "outputs": [
    {
     "name": "stdout",
     "output_type": "stream",
     "text": [
      "mu= tensor(0., dtype=torch.float64, requires_grad=True)\n",
      "Std= tensor(1., dtype=torch.float64)\n",
      "guide_sample= tensor(1.7372, dtype=torch.float64)\n",
      "theta= tensor(1.7372, dtype=torch.float64)\n",
      "data= tensor([ 0.8388, -0.1833, -2.1368, -0.2388,  0.6498,  0.3822, -1.2816, -1.7660,\n",
      "        -0.5203, -1.0228, -0.1081, -0.0409, -1.0024, -2.3166, -2.0128, -0.0426,\n",
      "        -0.4848, -0.8534,  0.5709, -1.6766, -0.1692,  0.3345, -1.7441,  1.0423,\n",
      "         0.3373,  0.8508,  0.1661, -0.8787,  0.2286, -1.1208,  0.0091, -1.3477,\n",
      "        -1.0648,  0.5113,  1.6590, -1.0047,  0.8868,  0.0328, -0.5314, -0.2618,\n",
      "        -0.1838, -1.0625,  1.3309, -1.1494, -0.0318, -0.2930,  0.7696, -0.8031,\n",
      "        -0.5970, -0.7322,  0.3669, -1.3575, -0.6971,  1.0831, -2.0977, -1.5026,\n",
      "         0.0743,  0.2600, -2.7148,  1.4507, -0.2487, -0.2512,  1.0064,  0.4849,\n",
      "        -1.8710, -0.2962,  0.4355,  0.2472, -0.1477, -1.2205, -0.6959,  0.5074,\n",
      "        -0.0264, -0.0079, -2.6737,  2.2217, -0.4517,  0.2079, -0.9469, -0.4172,\n",
      "        -1.6626,  1.1785, -0.0446,  0.2167, -0.7769, -0.1035, -1.6094,  1.2864,\n",
      "         0.7185, -2.1532,  0.3925, -1.8879, -0.7011, -0.0716, -0.6746, -1.1085,\n",
      "         0.4625,  0.4582,  0.0212, -0.5855], dtype=torch.float64)\n"
     ]
    },
    {
     "data": {
      "text/plain": [
       "356.7941115355813"
      ]
     },
     "execution_count": 22,
     "metadata": {},
     "output_type": "execute_result"
    }
   ],
   "source": [
    "continuous_svi.evaluate_loss(size=X.size)"
   ]
  },
  {
   "cell_type": "code",
   "execution_count": null,
   "metadata": {},
   "outputs": [],
   "source": [
    "losses, a_history,b_history  = [], [], []\n",
    "num_steps = 10_000\n",
    "for t in range(num_steps):\n",
    "    losses.append(continuous_svi.step(X.size))\n",
    "    a_history.append(pyro.param(\"c_a\").item())\n",
    "    b_history.append(pyro.param(\"c_b\").item())\n",
    "\n",
    "plt.plot(losses)\n",
    "plt.title(\"ELBO\")\n",
    "plt.xlabel(\"step\")\n",
    "plt.ylabel(\"loss\")\n",
    "\n",
    "print('mu = ', pyro.param(\"c_a\").item())\n",
    "print('std = ', pyro.param(\"c_b\").item())"
   ]
  },
  {
   "cell_type": "code",
   "execution_count": null,
   "metadata": {},
   "outputs": [],
   "source": [
    "plt.subplot(1,2,1)\n",
    "\n",
    "plt.plot(a_history)\n",
    "plt.plot([0,num_steps],[X.sum() / (X.size + 1), X.sum() / (X.size + 1)], 'k:')\n",
    "plt.ylabel('a')\n",
    "\n",
    "plt.subplot(1,2,2)\n",
    "plt.ylabel('b')\n",
    "plt.plot(b_history)\n",
    "\n",
    "plt.plot([0,num_steps],[1.0 / np.sqrt(X.size + 1), 1.0 / np.sqrt(X.size + 1)], 'k:')\n",
    "plt.tight_layout()"
   ]
  },
  {
   "cell_type": "code",
   "execution_count": null,
   "metadata": {},
   "outputs": [],
   "source": [
    "MU = pyro.param(\"c_a\").item()\n",
    "STD = pyro.param(\"c_b\").item()"
   ]
  },
  {
   "cell_type": "code",
   "execution_count": null,
   "metadata": {},
   "outputs": [],
   "source": [
    "# Analytical posterior\n",
    "Prior = Normal(0, 1)\n",
    "AnalyticalPosterior = Normal(X.sum() / (X.size + 1), 1.0 / np.sqrt(X.size + 1))\n",
    "EstimatedPosterior = Normal(MU, STD)"
   ]
  },
  {
   "cell_type": "code",
   "execution_count": null,
   "metadata": {},
   "outputs": [],
   "source": [
    "print(hidden_theta)\n",
    "mle = AnalyticalPosterior.mean()\n",
    "print(AnalyticalPosterior.mean())"
   ]
  },
  {
   "cell_type": "code",
   "execution_count": null,
   "metadata": {},
   "outputs": [],
   "source": [
    "fig, axs = plt.subplots(1, 1)\n",
    "axs.set_title(\"Prior vs Posterior\")\n",
    "support = np.linspace(-4, 4, 10_00)\n",
    "\n",
    "axs.plot(support, Prior.pdf(support), label=\"Prior\")\n",
    "axs.fill_between(support, 0, Prior.pdf(support), alpha=0.2)\n",
    "axs.plot(support, np.minimum(AnalyticalPosterior.pdf(support), 2.0), label=\"Analytical Posterior\")\n",
    "axs.fill_between(support, 0, np.minimum(AnalyticalPosterior.pdf(support), 2.0), alpha=0.2)\n",
    "axs.plot(support, np.minimum(EstimatedPosterior.pdf(support), 2.0), label=\"Estimated Posterior\")\n",
    "axs.fill_between(support, 0, np.minimum(EstimatedPosterior.pdf(support), 2.0), alpha=0.2)\n",
    "axs.axvline(hidden_theta, color='red', linestyle='--', label=\"True paramter value\")\n",
    "axs.axvline(mle, color='blue', linestyle='--', label=\"Maximum likelihood estimate\")\n",
    "\n",
    "\n",
    "axs.legend()\n",
    "None"
   ]
  }
 ],
 "metadata": {
  "kernelspec": {
   "display_name": "Python 3",
   "language": "python",
   "name": "python3"
  },
  "language_info": {
   "codemirror_mode": {
    "name": "ipython",
    "version": 3
   },
   "file_extension": ".py",
   "mimetype": "text/x-python",
   "name": "python",
   "nbconvert_exporter": "python",
   "pygments_lexer": "ipython3",
   "version": "3.6.8"
  }
 },
 "nbformat": 4,
 "nbformat_minor": 2
}

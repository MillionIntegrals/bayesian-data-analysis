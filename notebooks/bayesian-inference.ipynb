{
 "cells": [
  {
   "cell_type": "code",
   "execution_count": 1,
   "metadata": {},
   "outputs": [],
   "source": [
    "import numpy as np\n",
    "import scipy.stats as stats\n",
    "import matplotlib.pyplot as plt"
   ]
  },
  {
   "cell_type": "code",
   "execution_count": 2,
   "metadata": {},
   "outputs": [],
   "source": [
    "plt.rcParams['figure.figsize'] = [10, 5]"
   ]
  },
  {
   "cell_type": "markdown",
   "metadata": {},
   "source": [
    "# Few helpful definitions\n",
    "\n",
    "- **Prior** probability is a distribution over the parameters of data distribution $\\mathbb{P}(\\theta)$\n",
    "- **Likelihood** is the probability model of data we are considering $\\mathbb{P}(X | \\theta)$\n",
    "- **Posterior** probability is a distribution over the parameter of a distribution given data provided\n",
    "  $\\mathbb{P}(\\theta | X) $"
   ]
  },
  {
   "cell_type": "markdown",
   "metadata": {},
   "source": [
    " **Inference** is done using a simple Bayes rule:\n",
    "$$\n",
    "\\mathbb{P}(\\theta | X) = \\frac{\\mathbb{P}(X | \\theta) \\mathbb{P}(\\theta)}{\n",
    "\\int_{\\Theta} \\mathbb{P}(X|\\vartheta) \\mathbb{P}(\\vartheta) d\\vartheta\n",
    "}\n",
    "$$"
   ]
  },
  {
   "cell_type": "code",
   "execution_count": 3,
   "metadata": {},
   "outputs": [],
   "source": [
    "# In the meantime I'll define thin wrappers around the probability distributions\n",
    "class Bernoulli:\n",
    "    def __init__(self, p):\n",
    "        self.p = p\n",
    "    \n",
    "    def sample(self, size=1):\n",
    "        return stats.bernoulli.rvs(p=self.p, size=size)\n",
    "        \n",
    "class Uniform:\n",
    "    def __init__(self, start, end):\n",
    "        self.start = start\n",
    "        self.end = end\n",
    "    \n",
    "    def sample(self, size=1):\n",
    "        return stats.uniform.rvs(loc=self.start, scale=self.end-self.start, size=size)\n",
    "    \n",
    "    def pdf(self, x):\n",
    "        return stats.uniform.pdf(x, loc=self.start, scale=self.end-self.start)\n",
    "    \n",
    "    def mean(self):\n",
    "        return stats.uniform.mean(loc=self.start, scale=self.end-self.start)\n",
    "        \n",
    "class Beta:\n",
    "    def __init__(self, alpha, beta):\n",
    "        self.alpha = alpha\n",
    "        self.beta = beta\n",
    "        \n",
    "    def pdf(self, X):\n",
    "        return stats.beta.pdf(X, a=self.alpha, b=self.beta)\n",
    "    \n",
    "    def mean(self):\n",
    "        return stats.beta.mean(a=self.alpha, b=self.beta)\n",
    "    \n",
    "    \n",
    "class Normal:\n",
    "    def __init__(self, mu, sigma):\n",
    "        self.mu = mu\n",
    "        self.sigma = sigma\n",
    "        \n",
    "    def pdf(self, X):\n",
    "        return stats.norm.pdf(X, loc=self.mu, scale=self.sigma)\n",
    "    \n",
    "    def sample(self, size=1):\n",
    "        return stats.norm.rvs(loc=self.mu, scale=self.sigma, size=size)\n",
    "    \n",
    "    def mean(self):\n",
    "        return self.mu"
   ]
  },
  {
   "cell_type": "markdown",
   "metadata": {},
   "source": [
    "# Concrete example - discrete case\n",
    "Let's consider a simple example, where:\n",
    "- Prior $\\mathbb{P}(\\theta) \\sim U(0, 1)$\n",
    "- Likelihood $\\mathbb{P}(X | \\theta) \\sim B(\\theta)$"
   ]
  },
  {
   "cell_type": "code",
   "execution_count": 4,
   "metadata": {},
   "outputs": [],
   "source": [
    "N = 100"
   ]
  },
  {
   "cell_type": "code",
   "execution_count": 5,
   "metadata": {},
   "outputs": [],
   "source": [
    "Prior = Uniform(0, 1)"
   ]
  },
  {
   "cell_type": "code",
   "execution_count": 6,
   "metadata": {},
   "outputs": [
    {
     "data": {
      "text/plain": [
       "0.6551248754806633"
      ]
     },
     "execution_count": 6,
     "metadata": {},
     "output_type": "execute_result"
    }
   ],
   "source": [
    "hidden_theta = Prior.sample()[0]\n",
    "hidden_theta"
   ]
  },
  {
   "cell_type": "code",
   "execution_count": 44,
   "metadata": {},
   "outputs": [],
   "source": [
    "Likelihood = Bernoulli(hidden_theta)"
   ]
  },
  {
   "cell_type": "code",
   "execution_count": 45,
   "metadata": {},
   "outputs": [],
   "source": [
    "X = Likelihood.sample(size=N)"
   ]
  },
  {
   "cell_type": "code",
   "execution_count": 46,
   "metadata": {},
   "outputs": [
    {
     "data": {
      "image/png": "[encoded data removed]",
      "text/plain": [
       "<Figure size 720x360 with 1 Axes>"
      ]
     },
     "metadata": {
      "needs_background": "light"
     },
     "output_type": "display_data"
    }
   ],
   "source": [
    "fig, axs = plt.subplots(1, 1)\n",
    "axs.set_title(\"X histogram\")\n",
    "color = next(axs._get_lines.prop_cycler)[\"color\"]\n",
    "axs.hist(X, density=True, color=color, alpha=0.3)\n",
    "axs.hist(X, density=True, color=color, edgecolor=color, fc=\"None\", lw=1)\n",
    "\n",
    "None"
   ]
  },
  {
   "cell_type": "markdown",
   "metadata": {},
   "source": [
    "If we evaluate, the posterior pdf analytically, we can see that it is a **beta** distribution, which turns out to be a **conjugage prior** of the bernoulli distribution.\n",
    "\n",
    "If we define two helper variables for this problem\n",
    "- Number of successes $s = \\sum_i x_i$\n",
    "- Number of failures $p = \\sum_i (1-x_i)$\n",
    "\n",
    "Then the posterior pdf can be written as:\n",
    "\n",
    "$$\n",
    "\\mathbb{P}(\\theta | X) = \n",
    "\\frac{ \\prod_i \\theta^x_i (1 - \\theta)^{1 - x_i}}{ \n",
    "\\int_\\Theta  \n",
    "\\prod_i \\vartheta^x_i (1 - \\vartheta)^{1 - x_i} d\\vartheta\n",
    "}\n",
    "=\n",
    "\\frac{ \\theta^s (1-\\theta)^p}{ \n",
    "\\int_\\Theta  \n",
    "\\prod_i \\vartheta^s (1-\\vartheta)^p d\\vartheta\n",
    "}\n",
    "=\n",
    "\\frac{ \\theta^s (1-\\theta)^p}{  \n",
    "\\textrm{Beta}(s + 1, p + 1)\n",
    "}\n",
    "\\sim\n",
    "\\textrm{Beta}(s + 1, p + 1)\n",
    "$$"
   ]
  },
  {
   "cell_type": "code",
   "execution_count": 10,
   "metadata": {},
   "outputs": [],
   "source": [
    "Posterior = Beta(X.sum() + 1, (1-X).sum() + 1)"
   ]
  },
  {
   "cell_type": "code",
   "execution_count": 11,
   "metadata": {},
   "outputs": [],
   "source": [
    "successes = X.sum()\n",
    "failures = (1-X).sum()"
   ]
  },
  {
   "cell_type": "code",
   "execution_count": 12,
   "metadata": {},
   "outputs": [
    {
     "data": {
      "text/plain": [
       "0.6551248754806633"
      ]
     },
     "execution_count": 12,
     "metadata": {},
     "output_type": "execute_result"
    }
   ],
   "source": [
    "hidden_theta"
   ]
  },
  {
   "cell_type": "code",
   "execution_count": 13,
   "metadata": {},
   "outputs": [],
   "source": [
    "mle = successes / (successes + failures)  # In other words, mode of a distribution"
   ]
  },
  {
   "cell_type": "code",
   "execution_count": 14,
   "metadata": {},
   "outputs": [
    {
     "data": {
      "text/plain": [
       "0.61"
      ]
     },
     "execution_count": 14,
     "metadata": {},
     "output_type": "execute_result"
    }
   ],
   "source": [
    "mle"
   ]
  },
  {
   "cell_type": "code",
   "execution_count": 30,
   "metadata": {},
   "outputs": [
    {
     "data": {
      "image/png": "[encoded data removed]",
      "text/plain": [
       "<Figure size 720x360 with 1 Axes>"
      ]
     },
     "metadata": {
      "needs_background": "light"
     },
     "output_type": "display_data"
    }
   ],
   "source": [
    "fig, axs = plt.subplots(1, 1)\n",
    "axs.set_title(\"Prior vs Posterior\")\n",
    "support = np.linspace(0.0, 1.0, 100)\n",
    "\n",
    "axs.plot(support, Prior.pdf(support), label=\"Prior\")\n",
    "axs.fill_between(support, 0, Prior.pdf(support), alpha=0.2)\n",
    "axs.plot(support, Posterior.pdf(support), label=\"Posterior\")\n",
    "axs.fill_between(support, 0, Posterior.pdf(support), alpha=0.2)\n",
    "axs.axvline(hidden_theta, color='red', linestyle='--', label=\"True paramter value\")\n",
    "axs.axvline(mle, color='blue', linestyle='--', label=\"Maximum likelihood estimate\")\n",
    "\n",
    "axs.legend()\n",
    "None"
   ]
  },
  {
   "cell_type": "markdown",
   "metadata": {},
   "source": [
    "# Second example - continuous case"
   ]
  },
  {
   "cell_type": "markdown",
   "metadata": {},
   "source": [
    "- Prior $\\mathbb{P}(\\theta) \\sim N(0, 1)$\n",
    "- Likelihood $\\mathbb{P}(X | \\theta) \\sim N(\\theta, 1)$"
   ]
  },
  {
   "cell_type": "code",
   "execution_count": 16,
   "metadata": {},
   "outputs": [],
   "source": [
    "N = 100"
   ]
  },
  {
   "cell_type": "code",
   "execution_count": 17,
   "metadata": {},
   "outputs": [],
   "source": [
    "Prior = Normal(0, 1)"
   ]
  },
  {
   "cell_type": "code",
   "execution_count": 18,
   "metadata": {},
   "outputs": [],
   "source": [
    "hidden_theta = Prior.sample()[0]"
   ]
  },
  {
   "cell_type": "code",
   "execution_count": 19,
   "metadata": {},
   "outputs": [
    {
     "data": {
      "text/plain": [
       "0.6308276425254711"
      ]
     },
     "execution_count": 19,
     "metadata": {},
     "output_type": "execute_result"
    }
   ],
   "source": [
    "hidden_theta"
   ]
  },
  {
   "cell_type": "code",
   "execution_count": 50,
   "metadata": {},
   "outputs": [],
   "source": [
    "Likelihood = Normal(hidden_theta, 1)"
   ]
  },
  {
   "cell_type": "code",
   "execution_count": 51,
   "metadata": {},
   "outputs": [],
   "source": [
    "X = Likelihood.sample(N)"
   ]
  },
  {
   "cell_type": "code",
   "execution_count": 52,
   "metadata": {},
   "outputs": [
    {
     "data": {
      "image/png": "[encoded data removed]",
      "text/plain": [
       "<Figure size 720x360 with 1 Axes>"
      ]
     },
     "metadata": {
      "needs_background": "light"
     },
     "output_type": "display_data"
    }
   ],
   "source": [
    "fig, axs = plt.subplots(1, 1)\n",
    "axs.set_title(\"X histogram\")\n",
    "color = next(axs._get_lines.prop_cycler)[\"color\"]\n",
    "axs.hist(X, density=True, color=color, alpha=0.3)\n",
    "axs.hist(X, density=True, color=color, edgecolor=color, fc=\"None\", lw=1)\n",
    "None"
   ]
  },
  {
   "cell_type": "markdown",
   "metadata": {},
   "source": [
    "After doing some algebra, we can find that the posterior distribution is a normal distribution with parameters:\n",
    "- $\\mu = \\frac{\\sum_i x_i}{n+1}$\n",
    "- $\\sigma = \\frac{1}{\\sqrt{n+1}}$"
   ]
  },
  {
   "cell_type": "code",
   "execution_count": 23,
   "metadata": {},
   "outputs": [],
   "source": [
    "Posterior = Normal(X.sum() / (X.size + 1), 1.0 / np.sqrt(X.size + 1))"
   ]
  },
  {
   "cell_type": "code",
   "execution_count": 24,
   "metadata": {},
   "outputs": [
    {
     "data": {
      "text/plain": [
       "0.6308276425254711"
      ]
     },
     "execution_count": 24,
     "metadata": {},
     "output_type": "execute_result"
    }
   ],
   "source": [
    "hidden_theta"
   ]
  },
  {
   "cell_type": "code",
   "execution_count": 25,
   "metadata": {},
   "outputs": [],
   "source": [
    "mle = Posterior.mean()"
   ]
  },
  {
   "cell_type": "code",
   "execution_count": 26,
   "metadata": {},
   "outputs": [
    {
     "data": {
      "text/plain": [
       "0.6996963976960487"
      ]
     },
     "execution_count": 26,
     "metadata": {},
     "output_type": "execute_result"
    }
   ],
   "source": [
    "mle"
   ]
  },
  {
   "cell_type": "markdown",
   "metadata": {},
   "source": [
    "In terms of normal distribution, MLE is equal to the mean of the parameter."
   ]
  },
  {
   "cell_type": "code",
   "execution_count": 53,
   "metadata": {},
   "outputs": [
    {
     "data": {
      "text/plain": [
       "<matplotlib.legend.Legend at 0x11e9df9e8>"
      ]
     },
     "execution_count": 53,
     "metadata": {},
     "output_type": "execute_result"
    },
    {
     "data": {
      "image/png": "[encoded data removed]",
      "text/plain": [
       "<Figure size 720x360 with 1 Axes>"
      ]
     },
     "metadata": {
      "needs_background": "light"
     },
     "output_type": "display_data"
    }
   ],
   "source": [
    "fig, axs = plt.subplots(1, 1)\n",
    "axs.set_title(\"Prior vs Posterior\")\n",
    "support = np.linspace(-4, 4, 10_00)\n",
    "\n",
    "axs.plot(support, Prior.pdf(support), label=\"Prior\")\n",
    "axs.fill_between(support, 0, Prior.pdf(support), alpha=0.2)\n",
    "axs.plot(support, np.minimum(Posterior.pdf(support), 2.0), label=\"Posterior\")\n",
    "axs.fill_between(support, 0, np.minimum(Posterior.pdf(support), 2.0), alpha=0.2)\n",
    "axs.axvline(hidden_theta, color='red', linestyle='--', label=\"True paramter value\")\n",
    "axs.axvline(mle, color='blue', linestyle='--', label=\"Maximum likelihood estimate\")\n",
    "\n",
    "\n",
    "axs.legend()"
   ]
  }
 ],
 "metadata": {
  "kernelspec": {
   "display_name": "Python 3",
   "language": "python",
   "name": "python3"
  },
  "language_info": {
   "codemirror_mode": {
    "name": "ipython",
    "version": 3
   },
   "file_extension": ".py",
   "mimetype": "text/x-python",
   "name": "python",
   "nbconvert_exporter": "python",
   "pygments_lexer": "ipython3",
   "version": "3.6.8"
  }
 },
 "nbformat": 4,
 "nbformat_minor": 2
}

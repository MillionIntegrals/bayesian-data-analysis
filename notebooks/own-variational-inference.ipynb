{
 "cells": [
  {
   "cell_type": "code",
   "execution_count": 1,
   "metadata": {},
   "outputs": [],
   "source": [
    "import torch\n",
    "import torch.distributions as td\n",
    "import torch.optim as opt\n",
    "import numpy as np\n",
    "import matplotlib.pyplot as plt\n",
    "import scipy.stats as stats"
   ]
  },
  {
   "cell_type": "markdown",
   "metadata": {},
   "source": [
    "In this notebook I'll try to perform numerical variational bayesian analysis that previously I've done with **Pyro** package."
   ]
  },
  {
   "cell_type": "code",
   "execution_count": 2,
   "metadata": {},
   "outputs": [],
   "source": [
    "# In the meantime I'll define thin wrappers around the probability distributions\n",
    "class Bernoulli:\n",
    "    def __init__(self, p):\n",
    "        self.p = p\n",
    "    \n",
    "    def sample(self, size=1):\n",
    "        return stats.bernoulli.rvs(p=self.p, size=size)\n",
    "        \n",
    "class Uniform:\n",
    "    def __init__(self, start, end):\n",
    "        self.start = start\n",
    "        self.end = end\n",
    "    \n",
    "    def sample(self, size=1):\n",
    "        return stats.uniform.rvs(loc=self.start, scale=self.end-self.start, size=size)\n",
    "    \n",
    "    def pdf(self, x):\n",
    "        return stats.uniform.pdf(x, loc=self.start, scale=self.end-self.start)\n",
    "    \n",
    "    def mean(self):\n",
    "        return stats.uniform.mean(loc=self.start, scale=self.end-self.start)\n",
    "        \n",
    "class Beta:\n",
    "    def __init__(self, alpha, beta):\n",
    "        self.alpha = alpha\n",
    "        self.beta = beta\n",
    "        \n",
    "    def pdf(self, X):\n",
    "        return stats.beta.pdf(X, a=self.alpha, b=self.beta)\n",
    "    \n",
    "    def mean(self):\n",
    "        return stats.beta.mean(a=self.alpha, b=self.beta)\n",
    "    \n",
    "    \n",
    "class Normal:\n",
    "    def __init__(self, mu, sigma):\n",
    "        self.mu = mu\n",
    "        self.sigma = sigma\n",
    "        \n",
    "    def pdf(self, X):\n",
    "        return stats.norm.pdf(X, loc=self.mu, scale=self.sigma)\n",
    "    \n",
    "    def sample(self, size=1):\n",
    "        return stats.norm.rvs(loc=self.mu, scale=self.sigma, size=size)\n",
    "    \n",
    "    def mean(self):\n",
    "        return self.mu"
   ]
  },
  {
   "cell_type": "markdown",
   "metadata": {},
   "source": [
    "Let's consider a simple example, where:\n",
    "- Prior $\\mathbb{P}(\\theta) \\sim U(0, 1)$\n",
    "- Likelihood $\\mathbb{P}(X | \\theta) \\sim B(\\theta)$"
   ]
  },
  {
   "cell_type": "code",
   "execution_count": 3,
   "metadata": {},
   "outputs": [],
   "source": [
    "N = 100"
   ]
  },
  {
   "cell_type": "code",
   "execution_count": 4,
   "metadata": {},
   "outputs": [],
   "source": [
    "Prior = Uniform(0, 1)"
   ]
  },
  {
   "cell_type": "code",
   "execution_count": 5,
   "metadata": {},
   "outputs": [
    {
     "data": {
      "text/plain": [
       "0.39805516864908674"
      ]
     },
     "execution_count": 5,
     "metadata": {},
     "output_type": "execute_result"
    }
   ],
   "source": [
    "hidden_theta = Prior.sample()[0]\n",
    "hidden_theta"
   ]
  },
  {
   "cell_type": "code",
   "execution_count": 6,
   "metadata": {},
   "outputs": [],
   "source": [
    "Likelihood = Bernoulli(hidden_theta)"
   ]
  },
  {
   "cell_type": "code",
   "execution_count": 7,
   "metadata": {},
   "outputs": [],
   "source": [
    "X = Likelihood.sample(size=N)"
   ]
  },
  {
   "cell_type": "code",
   "execution_count": 8,
   "metadata": {},
   "outputs": [
    {
     "data": {
      "text/plain": [
       "array([1, 0, 0, 0, 1, 1, 0, 0, 0, 0, 0, 0, 0, 0, 1, 0, 0, 1, 1, 1, 0, 0,\n",
       "       0, 0, 0, 0, 0, 1, 0, 0, 0, 0, 0, 0, 1, 0, 0, 1, 0, 1, 1, 0, 0, 0,\n",
       "       1, 0, 1, 1, 1, 1, 0, 0, 1, 0, 1, 0, 0, 1, 1, 0, 0, 1, 0, 1, 0, 1,\n",
       "       0, 1, 0, 0, 0, 0, 0, 1, 1, 0, 0, 0, 0, 0, 1, 0, 1, 1, 1, 1, 0, 0,\n",
       "       0, 1, 0, 0, 0, 0, 0, 0, 0, 0, 0, 1])"
      ]
     },
     "execution_count": 8,
     "metadata": {},
     "output_type": "execute_result"
    }
   ],
   "source": [
    "X"
   ]
  },
  {
   "cell_type": "markdown",
   "metadata": {},
   "source": [
    "The whole point of **variational bayesian inference**, is to fit a **variational distribution** $q_\\phi$ parametrized by a set of **variational parameters** $\\phi$ which is meant to approximate the true posterior $p(\\theta | x)$.\n",
    "\n",
    "Approximation is done by minimizing KL divergence between $q_\\phi(\\theta)$ and $p(\\theta | x)$\n",
    "\n",
    "The good thing we don't need to know the posterior, as long as we can calculate gradient of a KL divergence between $q$ and $p$ with respect to variational parameters $\\phi$."
   ]
  },
  {
   "cell_type": "markdown",
   "metadata": {},
   "source": [
    "\\begin{align}\n",
    "D_{KL}(q_\\phi(\\theta) || p(\\theta | x)) \n",
    "&= \\int_\\Theta q(\\theta) \\log \\frac{q(\\theta)}{p(\\theta|x)} d\\theta \\\\\n",
    "&= \\mathbb{E}_q \\log \\frac{q(\\theta)}{p(\\theta|x)} \\\\\n",
    "&= \\mathbb{E}_q \\log q(\\theta) - \\mathbb{E}_q \\log p(\\theta|x) \\\\\n",
    "&= \\mathbb{E}_q \\log q(\\theta) - \\mathbb{E}_q \\log \\frac{p(\\theta, x)}{p(x)} \\\\\n",
    "&= \\log p(x) - \\left( \\mathbb{E}_q \\log p(\\theta, x) - \\mathbb{E}_q \\log q(\\theta) \\right)\\\\\n",
    "\\end{align}   "
   ]
  },
  {
   "cell_type": "markdown",
   "metadata": {},
   "source": [
    "The second bit of that is called **ELBO**, which stants for **Evidence Lower BOund**. **Evidence** is usally called the probability of data given the model, which is \n",
    "$$\n",
    "p(x) = \\int_\\Theta p(x | \\theta) p(\\theta) d\\theta\n",
    "$$\n",
    "\n",
    "We assume the model a the beginning of our inference so the value of $p(x)$ is given and does not depend on any parameters we consider."
   ]
  },
  {
   "cell_type": "markdown",
   "metadata": {},
   "source": [
    "Because KL divergence is always positive, **ELBO** has to be lower or equal to the logarithm of **evidence**. Thus maximizing the **ELBO** is our goal in computational variational inference which should result in distribution $q_\\phi$ that should approximate closely posterior probability distribution $p(\\theta|x)$."
   ]
  },
  {
   "cell_type": "code",
   "execution_count": 9,
   "metadata": {},
   "outputs": [
    {
     "name": "stdout",
     "output_type": "stream",
     "text": [
      "tensor(2., requires_grad=True) tensor(2., requires_grad=True)\n"
     ]
    }
   ],
   "source": [
    "# Define our paramters\n",
    "# We'll parametrize a Beta distribution\n",
    "a = torch.tensor(2.0, dtype=torch.float32, requires_grad=True)\n",
    "b = torch.tensor(2.0, dtype=torch.float32, requires_grad=True)\n",
    "print(a, b)"
   ]
  },
  {
   "cell_type": "code",
   "execution_count": 10,
   "metadata": {},
   "outputs": [],
   "source": [
    "# Prior model defined using PyTorch distributions\n",
    "TPrior = td.Uniform(0, 1)"
   ]
  },
  {
   "cell_type": "code",
   "execution_count": 11,
   "metadata": {},
   "outputs": [
    {
     "name": "stdout",
     "output_type": "stream",
     "text": [
      "tensor([1, 0, 0, 0, 1, 1, 0, 0, 0, 0, 0, 0, 0, 0, 1, 0, 0, 1, 1, 1, 0, 0, 0, 0,\n",
      "        0, 0, 0, 1, 0, 0, 0, 0, 0, 0, 1, 0, 0, 1, 0, 1, 1, 0, 0, 0, 1, 0, 1, 1,\n",
      "        1, 1, 0, 0, 1, 0, 1, 0, 0, 1, 1, 0, 0, 1, 0, 1, 0, 1, 0, 1, 0, 0, 0, 0,\n",
      "        0, 1, 1, 0, 0, 0, 0, 0, 1, 0, 1, 1, 1, 1, 0, 0, 0, 1, 0, 0, 0, 0, 0, 0,\n",
      "        0, 0, 0, 1])\n"
     ]
    }
   ],
   "source": [
    "X_tensor = torch.from_numpy(X)\n",
    "print(X_tensor)"
   ]
  },
  {
   "cell_type": "code",
   "execution_count": 12,
   "metadata": {},
   "outputs": [],
   "source": [
    "def calculate_elbo():\n",
    "    # Our variational distribution\n",
    "    q_distribution = td.Beta(a, b)\n",
    "    # All samples are calculated with respect to q distribution, therefore we sample from q\n",
    "    theta_sample = q_distribution.rsample()\n",
    "\n",
    "    # First bit, model log prob assuming theta is the hidden param\n",
    "    log_prob_theta_model = TPrior.log_prob(theta_sample)\n",
    "    log_prob_data_model = td.Bernoulli(theta_sample).log_prob(X_tensor.to(torch.float32)).sum()\n",
    "\n",
    "    # Second bit, variational distribution log prob, assuming theta is the hidden param\n",
    "    log_prob_q = q_distribution.log_prob(theta_sample)\n",
    "    \n",
    "    return log_prob_theta_model + log_prob_data_model - log_prob_q"
   ]
  },
  {
   "cell_type": "code",
   "execution_count": 13,
   "metadata": {},
   "outputs": [],
   "source": [
    "OPTIMIZATION_STEPS = 10_000"
   ]
  },
  {
   "cell_type": "code",
   "execution_count": 14,
   "metadata": {},
   "outputs": [],
   "source": [
    "optimizer = opt.Adam([a, b], lr=1.0)"
   ]
  },
  {
   "cell_type": "code",
   "execution_count": 15,
   "metadata": {},
   "outputs": [],
   "source": [
    "# metrics\n",
    "elbo_history = []\n",
    "a_history = []\n",
    "b_history = []"
   ]
  },
  {
   "cell_type": "code",
   "execution_count": 16,
   "metadata": {},
   "outputs": [],
   "source": [
    "for i in range(OPTIMIZATION_STEPS):\n",
    "    optimizer.zero_grad()\n",
    "    \n",
    "    elbo = calculate_elbo()\n",
    "    loss = -elbo\n",
    "    loss.backward()\n",
    "    \n",
    "    elbo_history.append(elbo.item())\n",
    "    a_history.append(a.item())\n",
    "    b_history.append(b.item())\n",
    "    \n",
    "    optimizer.step()\n",
    "    "
   ]
  },
  {
   "cell_type": "code",
   "execution_count": 17,
   "metadata": {},
   "outputs": [
    {
     "data": {
      "image/png": "[encoded data removed]",
      "text/plain": [
       "<Figure size 432x288 with 1 Axes>"
      ]
     },
     "metadata": {
      "needs_background": "light"
     },
     "output_type": "display_data"
    }
   ],
   "source": [
    "plt.plot(elbo_history)\n",
    "plt.title(\"ELBO\")\n",
    "plt.xlabel(\"step\")\n",
    "plt.ylabel(\"loss\");"
   ]
  },
  {
   "cell_type": "code",
   "execution_count": 18,
   "metadata": {},
   "outputs": [
    {
     "name": "stdout",
     "output_type": "stream",
     "text": [
      "a= 33.96885681152344\n",
      "b= 63.11884689331055\n"
     ]
    }
   ],
   "source": [
    "print(\"a=\", a.item())\n",
    "print(\"b=\", b.item())"
   ]
  },
  {
   "cell_type": "code",
   "execution_count": 19,
   "metadata": {},
   "outputs": [],
   "source": [
    "successes = X_tensor.sum().item()\n",
    "failures = (1 - X_tensor).sum().item()"
   ]
  },
  {
   "cell_type": "code",
   "execution_count": 20,
   "metadata": {},
   "outputs": [
    {
     "name": "stdout",
     "output_type": "stream",
     "text": [
      "s = 34\n",
      "f = 66\n"
     ]
    }
   ],
   "source": [
    "print(\"s =\", successes)\n",
    "print(\"f =\", failures)"
   ]
  },
  {
   "cell_type": "code",
   "execution_count": 21,
   "metadata": {},
   "outputs": [
    {
     "data": {
      "image/png": "[encoded data removed]",
      "text/plain": [
       "<Figure size 432x288 with 2 Axes>"
      ]
     },
     "metadata": {
      "needs_background": "light"
     },
     "output_type": "display_data"
    }
   ],
   "source": [
    "plt.subplot(1,2,1)\n",
    "plt.plot([0,OPTIMIZATION_STEPS],[successes + 1, successes + 1], 'k:')\n",
    "plt.plot(a_history)\n",
    "plt.ylabel('a')\n",
    "\n",
    "plt.subplot(1,2,2)\n",
    "plt.ylabel('b')\n",
    "plt.plot([0,OPTIMIZATION_STEPS],[failures + 1, failures + 1], 'k:')\n",
    "plt.plot(b_history)\n",
    "plt.tight_layout()"
   ]
  },
  {
   "cell_type": "code",
   "execution_count": 22,
   "metadata": {},
   "outputs": [],
   "source": [
    "A = a.item()\n",
    "B = b.item()"
   ]
  },
  {
   "cell_type": "code",
   "execution_count": 23,
   "metadata": {},
   "outputs": [],
   "source": [
    "MLE = (A - 1) / (A + B - 2)"
   ]
  },
  {
   "cell_type": "code",
   "execution_count": 24,
   "metadata": {},
   "outputs": [],
   "source": [
    "TruePosterior = Beta(X.sum().item() + 1, (1-X).sum().item() + 1)\n",
    "EstimatedPosterior = Beta(A, B)"
   ]
  },
  {
   "cell_type": "code",
   "execution_count": 25,
   "metadata": {},
   "outputs": [
    {
     "data": {
      "text/plain": [
       "<matplotlib.legend.Legend at 0x12bc4e940>"
      ]
     },
     "execution_count": 25,
     "metadata": {},
     "output_type": "execute_result"
    },
    {
     "data": {
      "image/png": "[encoded data removed]",
      "text/plain": [
       "<Figure size 432x288 with 1 Axes>"
      ]
     },
     "metadata": {
      "needs_background": "light"
     },
     "output_type": "display_data"
    }
   ],
   "source": [
    "fig, axs = plt.subplots(1, 1)\n",
    "axs.set_title(\"Prior vs Posterior\")\n",
    "support = np.linspace(0.0, 1.0, 1000)\n",
    "\n",
    "axs.plot(support, Prior.pdf(support), label=\"Prior\")\n",
    "axs.fill_between(support, 0, Prior.pdf(support), alpha=0.2)\n",
    "axs.plot(support, TruePosterior.pdf(support), label=\"TruePosterior\")\n",
    "axs.fill_between(support, 0, TruePosterior.pdf(support), alpha=0.2)\n",
    "axs.plot(support, EstimatedPosterior.pdf(support), label=\"EstimatedPosterior\")\n",
    "axs.fill_between(support, 0, EstimatedPosterior.pdf(support), alpha=0.2)\n",
    "axs.axvline(hidden_theta, color='red', linestyle='--', label='True value of param')\n",
    "axs.axvline(MLE, color='blue', linestyle='--', label='Maximum likelihood estimator')\n",
    "\n",
    "\n",
    "axs.legend()"
   ]
  }
 ],
 "metadata": {
  "kernelspec": {
   "display_name": "Python 3",
   "language": "python",
   "name": "python3"
  },
  "language_info": {
   "codemirror_mode": {
    "name": "ipython",
    "version": 3
   },
   "file_extension": ".py",
   "mimetype": "text/x-python",
   "name": "python",
   "nbconvert_exporter": "python",
   "pygments_lexer": "ipython3",
   "version": "3.6.8"
  }
 },
 "nbformat": 4,
 "nbformat_minor": 2
}
